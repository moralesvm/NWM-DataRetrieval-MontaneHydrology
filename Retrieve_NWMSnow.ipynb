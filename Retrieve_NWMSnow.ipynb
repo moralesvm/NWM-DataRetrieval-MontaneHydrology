{
 "cells": [
  {
   "cell_type": "markdown",
   "id": "6346b170-de70-43aa-926d-0aa8fdc9f49e",
   "metadata": {},
   "source": [
    "## Retrieve NWM retrospective snow data (Grid-to-point) from version 2.1"
   ]
  },
  {
   "cell_type": "markdown",
   "id": "b115f4ff-9889-489d-a3af-20d5e78d88c0",
   "metadata": {},
   "source": [
    "* This code retrieves snow depth and SWE data data from the NWM retrospective dataset stored in AWS (https://registry.opendata.aws/nwm-archive/). \n",
    "* The values are extracted from the grid cell that matches a lat/lon location."
   ]
  },
  {
   "cell_type": "code",
   "execution_count": null,
   "id": "53c34d9f-dcb7-4ffd-8143-4f2f51669ec9",
   "metadata": {},
   "outputs": [],
   "source": [
    "import os\n",
    "import pandas as pd\n",
    "import xarray\n",
    "import numpy\n",
    "import pyproj\n",
    "import matplotlib.pyplot as plt\n",
    "from datetime import datetime\n",
    "import s3fs\n",
    "import hvplot.xarray\n",
    "import dask.array as da\n",
    "\n",
    "from dask.distributed import Client\n",
    "client = Client()\n",
    "client"
   ]
  },
  {
   "cell_type": "markdown",
   "id": "b54862b5-16ed-47db-80fb-01f0b1fc7bf4",
   "metadata": {},
   "source": [
    "#### Reand NWM dataset"
   ]
  },
  {
   "cell_type": "code",
   "execution_count": null,
   "id": "5fa110aa-3a45-4a2d-8ef2-be6f1880d465",
   "metadata": {},
   "outputs": [],
   "source": [
    "s3_path = 's3://noaa-nwm-retrospective-2-1-zarr-pds/ldasout.zarr'"
   ]
  },
  {
   "cell_type": "code",
   "execution_count": null,
   "id": "87d642ff-f3bf-44a4-93d3-f5198ee43df3",
   "metadata": {},
   "outputs": [],
   "source": [
    "# Connect to S3\n",
    "s3 = s3fs.S3FileSystem(anon=True)\n",
    "store = s3fs.S3Map(root=s3_path, s3=s3, check=False)"
   ]
  },
  {
   "cell_type": "code",
   "execution_count": null,
   "id": "2b2b3847-fc69-4bed-8cce-20a6c4cf2086",
   "metadata": {},
   "outputs": [],
   "source": [
    "%%time\n",
    "# load the dataset\n",
    "ds = xarray.open_zarr(store=store, consolidated=True)"
   ]
  },
  {
   "cell_type": "markdown",
   "id": "55300985-ab04-4abf-a687-87b1ca5d1a0c",
   "metadata": {
    "tags": []
   },
   "source": [
    "#### Define lat/lon locations where data will be extracted"
   ]
  },
  {
   "cell_type": "code",
   "execution_count": null,
   "id": "9176904d-542b-4ebf-9a20-0979f0f1501e",
   "metadata": {
    "tags": []
   },
   "outputs": [],
   "source": [
    "# Path to where the sites of interest are located\n",
    "sitesPath = './Input/'"
   ]
  },
  {
   "cell_type": "code",
   "execution_count": null,
   "id": "50e321d7-65d3-4655-a4c4-cbb16acc654d",
   "metadata": {
    "tags": []
   },
   "outputs": [],
   "source": [
    "# Read sites\n",
    "#-------------\n",
    "sites_loc = pd.read_csv(sitesPath+'selStn_snow.csv',dtype={'siteID': 'string','name':'string','Source': 'string'})\n",
    "lat = sites_loc['latitude'].values.tolist()\n",
    "lon = sites_loc['longitude'].values.tolist()\n",
    "siteIDs = sites_loc['siteID'].values.tolist()"
   ]
  },
  {
   "cell_type": "code",
   "execution_count": null,
   "id": "4eb19dc3-899d-4a71-bdf5-01e7cbc993ce",
   "metadata": {},
   "outputs": [],
   "source": [
    "# define the input crs\n",
    "wrf_proj = pyproj.Proj(proj='lcc',\n",
    "                       lat_1=30.,\n",
    "                       lat_2=60., \n",
    "                       lat_0=40.0000076293945, lon_0=-97., # Center point\n",
    "                       a=6370000, b=6370000) \n",
    "\n",
    "# define a target coordinate system to convert locations into the projection of our NWM data\n",
    "target_crs = wrf_proj\n",
    "\n",
    "# Obs proj.\n",
    "wgs_proj = pyproj.Proj(proj='latlong', datum='WGS84')\n",
    "\n",
    "# Define transformer to reproject the station locations to the coordinates of NWM/LSM\n",
    "transformer = pyproj.Transformer.from_crs(wgs_proj.crs, target_crs.crs)"
   ]
  },
  {
   "cell_type": "code",
   "execution_count": null,
   "id": "8f239e1d-8731-460e-8216-9ab5f3dad7a1",
   "metadata": {
    "tags": []
   },
   "outputs": [],
   "source": [
    "sites = numpy.array([siteIDs])\n",
    "\n",
    "# Reproject to AORC/NWM coordinates\n",
    "xx0, yy0 = transformer.transform(lon,lat)\n",
    "\n",
    "xx = xarray.DataArray(xx0, coords=sites, dims=['location'])\n",
    "yy = xarray.DataArray(yy0, coords=sites, dims=['location'])"
   ]
  },
  {
   "cell_type": "markdown",
   "id": "dd81fe84-a54e-487a-8a7a-9b3219259d0a",
   "metadata": {},
   "source": [
    "#### Extract data over the full retrospective period by time chunks"
   ]
  },
  {
   "cell_type": "code",
   "execution_count": null,
   "id": "80ad494e-e028-4c2e-a152-6b40f193b4b4",
   "metadata": {
    "tags": []
   },
   "outputs": [],
   "source": [
    "savePath = \"./Output/\""
   ]
  },
  {
   "cell_type": "code",
   "execution_count": null,
   "id": "766e429b-2034-460b-bde7-2c85aff5ea96",
   "metadata": {},
   "outputs": [],
   "source": [
    "# slice all data in time chunks\n",
    "start_date = datetime.strptime(\"1979-02-01 00:00:00\", \"%Y-%m-%d %H:%M:%S\")\n",
    "end_date = datetime.strptime(\"2021-01-01 00:00:00\", \"%Y-%m-%d %H:%M:%S\")\n",
    "\n",
    "date_list = pd.date_range(start_date, end_date, periods=11)\n",
    "print(date_list)"
   ]
  },
  {
   "cell_type": "code",
   "execution_count": null,
   "id": "3bef6d14-4b6b-4e5f-991e-10f560540419",
   "metadata": {},
   "outputs": [],
   "source": [
    "%%time\n",
    "# Loop to process the data in time chunks\n",
    "max_lon = ds[\"x\"].max()\n",
    "max_lat = ds[\"y\"].max()\n",
    "\n",
    "for i in range(len(date_list)-1):\n",
    "    print(\"Processing block of dates from\",date_list[i], \"to\",date_list[i+1])\n",
    "    timerange = slice(str(date_list[i]), str(date_list[i+1]))\n",
    "    print(timerange)\n",
    "    dat = ds[['SNOWH', 'SNEQV']].sel(time=timerange,x=slice(1e6,max_lon),y=slice(0,max_lat)).persist()\n",
    "    \n",
    "    # Extract the values at the point locations\n",
    "    values_temp = dat.sel(x=xx, y=yy, method='nearest').to_dataframe()\n",
    "    values_temp.to_csv(f'{savePath}NWM_Snowretro_{str(i)}.csv')\n",
    "    print(\"Data saved...Done\")\n",
    "\n",
    "    # Delete unnecesary data to save memory\n",
    "    del(dat,values_temp)"
   ]
  }
 ],
 "metadata": {
  "kernelspec": {
   "display_name": "nwm-env",
   "language": "python",
   "name": "nwm-env"
  },
  "language_info": {
   "codemirror_mode": {
    "name": "ipython",
    "version": 3
   },
   "file_extension": ".py",
   "mimetype": "text/x-python",
   "name": "python",
   "nbconvert_exporter": "python",
   "pygments_lexer": "ipython3",
   "version": "3.10.0"
  }
 },
 "nbformat": 4,
 "nbformat_minor": 5
}
