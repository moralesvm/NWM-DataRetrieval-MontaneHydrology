{
 "cells": [
  {
   "cell_type": "markdown",
   "id": "51e9fa49-0b3f-4038-a1ea-4462d61df237",
   "metadata": {},
   "source": [
    "## Retrieving NWM retrospective streamflow simulations and USGS observations"
   ]
  },
  {
   "cell_type": "markdown",
   "id": "3ef9bdaa-f9b1-4679-bcd9-1bed7bc1f0bd",
   "metadata": {},
   "source": [
    "* This code retrieves streamflow from the NWM retrospective dataset (v2.1 or v3.0.) for defined stream reaches, as well as the corresponding USGS streamflow observations. Outputs are saved as CSV files. <br>\n",
    "* NWM Retrospective data is located at:\n",
    "https://registry.opendata.aws/nwm-archive/\n",
    "\n"
   ]
  },
  {
   "cell_type": "code",
   "execution_count": null,
   "id": "9aa7e566-1268-4c5d-9b14-329ae994d9ea",
   "metadata": {},
   "outputs": [],
   "source": [
    "import os\n",
    "import pandas as pd\n",
    "import xarray\n",
    "import s3fs\n",
    "from hydrotools.nwis_client.iv import IVDataService"
   ]
  },
  {
   "cell_type": "markdown",
   "id": "0b26c3ab-130b-42ba-bd3d-9a9a646f0166",
   "metadata": {},
   "source": [
    "**Define stations ID and comids of interest**"
   ]
  },
  {
   "cell_type": "code",
   "execution_count": null,
   "id": "bc88180b-9eba-48d7-b47a-e92667ab1d0a",
   "metadata": {},
   "outputs": [],
   "source": [
    "# Read the sites of interest\n",
    "sitesPath = './Input/'\n",
    "savePath = './Output/'\n",
    "\n",
    "sites_loc = pd.read_csv(f'{sitesPath}SelStn_Q.csv',dtype={'site_no': 'string'})\n",
    "stations = sites_loc['site_no'].values.tolist()\n",
    "reaches = sites_loc['comid'].values.tolist()"
   ]
  },
  {
   "cell_type": "markdown",
   "id": "370c0efc-0878-4429-96d8-ce820ed8f700",
   "metadata": {},
   "source": [
    "**Retrieve NWM retrospective streamflow data**"
   ]
  },
  {
   "cell_type": "code",
   "execution_count": null,
   "id": "cef728d8-017e-4001-b50e-04dad4138d08",
   "metadata": {},
   "outputs": [],
   "source": [
    "# The following is the path in Amazon Web Services (AWS) where the NWM retrospective dataset lives\n",
    "s3_path = 's3://noaa-nwm-retrospective-2-1-zarr-pds/chrtout.zarr' #v2.1\n",
    "#s3_path = 's3://noaa-nwm-retrospective-3-0-pds/CONUS/zarr/chrtout.zarr' #v.3.0\n",
    "\n",
    "s3 = s3fs.S3FileSystem(anon=True)\n",
    "store = s3fs.S3Map(root=s3_path, s3=s3, check=False)\n",
    "\n",
    "# Reads the CHRTOUT dataset and stores it in 'ds_zarr'\n",
    "ds_zarr = xarray.open_zarr(store=store, consolidated=True)"
   ]
  },
  {
   "cell_type": "code",
   "execution_count": null,
   "id": "69cfc2b3-c1db-4eb5-af93-c5a452639a42",
   "metadata": {},
   "outputs": [],
   "source": [
    "%%time\n",
    "## Get NWM retrospective data\n",
    "#------------------------------------------\n",
    "# NOTE: If time is not specified, it will retrieve the full retrospective data period\n",
    "# Define the time you want to retrieve\n",
    "timerange = slice('1996-01-01', '1997-01-01')\n",
    "\n",
    "NWM_retro = ds_zarr.sel(feature_id=reaches, time = timerange).streamflow.persist()\n",
    "NWM_retro = NWM_retro.to_pandas()\n",
    "NWM_retro.index.name = 'value_time'"
   ]
  },
  {
   "cell_type": "code",
   "execution_count": null,
   "id": "d8d1aa93-1f31-47fc-8a19-78bef32f3a60",
   "metadata": {},
   "outputs": [],
   "source": [
    "# Save NWM retrospective streamflow as CSV\n",
    "NWM_retro.to_csv(f'{savePath}NWM_Qretro.csv')"
   ]
  },
  {
   "cell_type": "markdown",
   "id": "02b3cad0-305b-4f6a-a8ea-5afeb9889ffd",
   "metadata": {},
   "source": [
    "**Retrieve USGS obs.**"
   ]
  },
  {
   "cell_type": "code",
   "execution_count": null,
   "id": "876c6988-eaff-40f9-ab32-1153bcfe6a89",
   "metadata": {},
   "outputs": [],
   "source": [
    "%%time\n",
    "# Get USGS obs\n",
    "#----------------\n",
    "service = IVDataService(\n",
    "    value_time_label=\"value_time\"\n",
    ")\n",
    "obs_data = service.get(\n",
    "    sites= stations,\n",
    "    startDT='1996-01-01',\n",
    "    endDT='1997-01-01')\n",
    "\n",
    "obs_data['value_cms'] = obs_data['value'] * (0.3048)**3 # Convert ft3/s to cms"
   ]
  },
  {
   "cell_type": "code",
   "execution_count": null,
   "id": "3c170f92-4632-490b-8012-d960cdadcca8",
   "metadata": {},
   "outputs": [],
   "source": [
    "# Save USGS obervations as CSV\n",
    "obs_data.to_csv(f'{savePath}USGS_Qretro.csv')"
   ]
  }
 ],
 "metadata": {
  "kernelspec": {
   "display_name": "nwm-env",
   "language": "python",
   "name": "nwm-env"
  },
  "language_info": {
   "codemirror_mode": {
    "name": "ipython",
    "version": 3
   },
   "file_extension": ".py",
   "mimetype": "text/x-python",
   "name": "python",
   "nbconvert_exporter": "python",
   "pygments_lexer": "ipython3",
   "version": "3.10.0"
  }
 },
 "nbformat": 4,
 "nbformat_minor": 5
}
